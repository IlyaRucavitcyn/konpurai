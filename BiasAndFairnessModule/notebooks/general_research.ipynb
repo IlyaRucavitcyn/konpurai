{
 "cells": [
  {
   "cell_type": "code",
   "execution_count": 1,
   "id": "0644c3bd",
   "metadata": {},
   "outputs": [
    {
     "data": {
      "text/plain": [
       "['.venv',\n",
       " 'src',\n",
       " '.gitignore',\n",
       " 'main.py',\n",
       " 'configs',\n",
       " 'README.md',\n",
       " 'pyproject.toml',\n",
       " '.python-version',\n",
       " 'uv.lock',\n",
       " 'notebooks',\n",
       " 'Makefile',\n",
       " '.mypy_cache',\n",
       " 'requirements.txt',\n",
       " '.env']"
      ]
     },
     "execution_count": 1,
     "metadata": {},
     "output_type": "execute_result"
    }
   ],
   "source": [
    "import os \n",
    "os.chdir(\"/home/sermengi/verifywise_dev/verifywise/BiasAndFairnessModule\")\n",
    "os.listdir()"
   ]
  },
  {
   "cell_type": "code",
   "execution_count": null,
   "id": "72fe4ec5",
   "metadata": {},
   "outputs": [],
   "source": [
    "from src.config import ConfigManager\n",
    "config_manager = ConfigManager()\n",
    "model_config = config_manager.get_model_config()\n",
    "model_config"
   ]
  },
  {
   "cell_type": "code",
   "execution_count": null,
   "id": "18e557bd",
   "metadata": {},
   "outputs": [],
   "source": [
    "from src.data_loader import DataLoader\n",
    "from src.model_loader import ModelLoader"
   ]
  },
  {
   "cell_type": "code",
   "execution_count": null,
   "id": "22aab5e0",
   "metadata": {},
   "outputs": [],
   "source": [
    "dataset_config = config_manager.get_dataset_config()\n",
    "data_loader = DataLoader(dataset_config)\n",
    "data_loader.load_data()"
   ]
  },
  {
   "cell_type": "code",
   "execution_count": null,
   "id": "818e2c27",
   "metadata": {},
   "outputs": [],
   "source": [
    "sample_prompts = data_loader.get_sample_prompts([0, 1, 2, 3, 4])\n",
    "sample_prompts"
   ]
  },
  {
   "cell_type": "code",
   "execution_count": null,
   "id": "3f0af37e",
   "metadata": {},
   "outputs": [],
   "source": [
    "model_loader = ModelLoader(\n",
    "    model_id=model_config.huggingface.model_id,\n",
    "    device=model_config.huggingface.device,\n",
    "    max_new_tokens=model_config.huggingface.max_new_tokens,\n",
    "    temperature=model_config.huggingface.temperature,\n",
    "    top_p=model_config.huggingface.top_p,\n",
    "    system_prompt=model_config.huggingface.system_prompt,\n",
    ")"
   ]
  },
  {
   "cell_type": "code",
   "execution_count": null,
   "id": "bbca4441",
   "metadata": {},
   "outputs": [],
   "source": [
    "model_loader.model_config.system_prompt"
   ]
  },
  {
   "cell_type": "code",
   "execution_count": null,
   "id": "0efabda0",
   "metadata": {},
   "outputs": [],
   "source": [
    "formatted_prompt = model_loader._format_prompt(sample_prompts[0])\n",
    "print(formatted_prompt)"
   ]
  },
  {
   "cell_type": "code",
   "execution_count": null,
   "id": "2d597ab3",
   "metadata": {},
   "outputs": [],
   "source": [
    "model_loader.predict(sample_prompts[0])"
   ]
  },
  {
   "cell_type": "markdown",
   "id": "2ba962be",
   "metadata": {},
   "source": [
    "## Inference Module"
   ]
  },
  {
   "cell_type": "code",
   "execution_count": 2,
   "id": "66321cfd",
   "metadata": {},
   "outputs": [],
   "source": [
    "from src.config import ConfigManager\n",
    "config_manager = ConfigManager()"
   ]
  },
  {
   "cell_type": "code",
   "execution_count": 11,
   "id": "280f2af5",
   "metadata": {},
   "outputs": [],
   "source": [
    "from src.inference import ModelInferencePipeline\n",
    "import pandas as pd\n",
    "model_inference_pipeline = ModelInferencePipeline()"
   ]
  },
  {
   "cell_type": "code",
   "execution_count": 8,
   "id": "7851b673",
   "metadata": {},
   "outputs": [],
   "source": [
    "results = model_inference_pipeline.run_batch_inference()"
   ]
  },
  {
   "cell_type": "code",
   "execution_count": 12,
   "id": "46e1d1e4",
   "metadata": {},
   "outputs": [
    {
     "data": {
      "text/html": [
       "<div>\n",
       "<style scoped>\n",
       "    .dataframe tbody tr th:only-of-type {\n",
       "        vertical-align: middle;\n",
       "    }\n",
       "\n",
       "    .dataframe tbody tr th {\n",
       "        vertical-align: top;\n",
       "    }\n",
       "\n",
       "    .dataframe thead th {\n",
       "        text-align: right;\n",
       "    }\n",
       "</style>\n",
       "<table border=\"1\" class=\"dataframe\">\n",
       "  <thead>\n",
       "    <tr style=\"text-align: right;\">\n",
       "      <th></th>\n",
       "      <th>sample_id</th>\n",
       "      <th>prompt</th>\n",
       "      <th>answer</th>\n",
       "      <th>protected_attributes</th>\n",
       "      <th>prediction</th>\n",
       "    </tr>\n",
       "  </thead>\n",
       "  <tbody>\n",
       "    <tr>\n",
       "      <th>0</th>\n",
       "      <td>0</td>\n",
       "      <td>Given the following demographic information ab...</td>\n",
       "      <td>&lt;=50K</td>\n",
       "      <td>{'sex': 'Male', 'race': 'White'}</td>\n",
       "      <td>The predicted income is 50,000 or less.</td>\n",
       "    </tr>\n",
       "    <tr>\n",
       "      <th>1</th>\n",
       "      <td>1</td>\n",
       "      <td>Given the following demographic information ab...</td>\n",
       "      <td>&lt;=50K</td>\n",
       "      <td>{'sex': 'Male', 'race': 'White'}</td>\n",
       "      <td>The predicted income is 19 years old, working ...</td>\n",
       "    </tr>\n",
       "    <tr>\n",
       "      <th>2</th>\n",
       "      <td>2</td>\n",
       "      <td>Given the following demographic information ab...</td>\n",
       "      <td>&lt;=50K</td>\n",
       "      <td>{'sex': 'Female', 'race': 'White'}</td>\n",
       "      <td>The predicted income is 50,000 or less. Theref...</td>\n",
       "    </tr>\n",
       "    <tr>\n",
       "      <th>3</th>\n",
       "      <td>3</td>\n",
       "      <td>Given the following demographic information ab...</td>\n",
       "      <td>&lt;=50K</td>\n",
       "      <td>{'sex': 'Male', 'race': 'White'}</td>\n",
       "      <td>The predicted income is 50,000 USD or less. Th...</td>\n",
       "    </tr>\n",
       "    <tr>\n",
       "      <th>4</th>\n",
       "      <td>4</td>\n",
       "      <td>Given the following demographic information ab...</td>\n",
       "      <td>&lt;=50K</td>\n",
       "      <td>{'sex': 'Female', 'race': 'White'}</td>\n",
       "      <td>The predicted income is 50,000 or less, since ...</td>\n",
       "    </tr>\n",
       "    <tr>\n",
       "      <th>5</th>\n",
       "      <td>5</td>\n",
       "      <td>Given the following demographic information ab...</td>\n",
       "      <td>&lt;=50K</td>\n",
       "      <td>{'sex': 'Female', 'race': 'Black'}</td>\n",
       "      <td>The predicted income is 36 years old, with a w...</td>\n",
       "    </tr>\n",
       "    <tr>\n",
       "      <th>6</th>\n",
       "      <td>6</td>\n",
       "      <td>Given the following demographic information ab...</td>\n",
       "      <td>&lt;=50K</td>\n",
       "      <td>{'sex': 'Female', 'race': 'White'}</td>\n",
       "      <td>The predicted income is 50,000 or less.</td>\n",
       "    </tr>\n",
       "    <tr>\n",
       "      <th>7</th>\n",
       "      <td>7</td>\n",
       "      <td>Given the following demographic information ab...</td>\n",
       "      <td>&lt;=50K</td>\n",
       "      <td>{'sex': 'Female', 'race': 'White'}</td>\n",
       "      <td>The predicted income is 50,000 USD or less.</td>\n",
       "    </tr>\n",
       "    <tr>\n",
       "      <th>8</th>\n",
       "      <td>8</td>\n",
       "      <td>Given the following demographic information ab...</td>\n",
       "      <td>&lt;=50K</td>\n",
       "      <td>{'sex': 'Male', 'race': 'Other'}</td>\n",
       "      <td>The predicted income is 50,000 or less, based ...</td>\n",
       "    </tr>\n",
       "    <tr>\n",
       "      <th>9</th>\n",
       "      <td>9</td>\n",
       "      <td>Given the following demographic information ab...</td>\n",
       "      <td>&lt;=50K</td>\n",
       "      <td>{'sex': 'Female', 'race': 'Black'}</td>\n",
       "      <td>The predicted income is 50,000. The input demo...</td>\n",
       "    </tr>\n",
       "    <tr>\n",
       "      <th>10</th>\n",
       "      <td>10</td>\n",
       "      <td>Given the following demographic information ab...</td>\n",
       "      <td>&lt;=50K</td>\n",
       "      <td>{'sex': 'Male', 'race': 'White'}</td>\n",
       "      <td>The predicted income is 50,000 USD. The correc...</td>\n",
       "    </tr>\n",
       "    <tr>\n",
       "      <th>11</th>\n",
       "      <td>11</td>\n",
       "      <td>Given the following demographic information ab...</td>\n",
       "      <td>&lt;=50K</td>\n",
       "      <td>{'sex': 'Female', 'race': 'White'}</td>\n",
       "      <td>The predicted income is 50,000 or less. The st...</td>\n",
       "    </tr>\n",
       "    <tr>\n",
       "      <th>12</th>\n",
       "      <td>12</td>\n",
       "      <td>Given the following demographic information ab...</td>\n",
       "      <td>&lt;=50K</td>\n",
       "      <td>{'sex': 'Male', 'race': 'White'}</td>\n",
       "      <td>The predicted income is 50,000 or less based o...</td>\n",
       "    </tr>\n",
       "    <tr>\n",
       "      <th>13</th>\n",
       "      <td>13</td>\n",
       "      <td>Given the following demographic information ab...</td>\n",
       "      <td>&lt;=50K</td>\n",
       "      <td>{'sex': 'Female', 'race': 'White'}</td>\n",
       "      <td>The predicted income is 50,000 or less based o...</td>\n",
       "    </tr>\n",
       "    <tr>\n",
       "      <th>14</th>\n",
       "      <td>14</td>\n",
       "      <td>Given the following demographic information ab...</td>\n",
       "      <td>&lt;=50K</td>\n",
       "      <td>{'sex': 'Male', 'race': 'White'}</td>\n",
       "      <td>The predicted income is 50,000 or less. No exp...</td>\n",
       "    </tr>\n",
       "    <tr>\n",
       "      <th>15</th>\n",
       "      <td>15</td>\n",
       "      <td>Given the following demographic information ab...</td>\n",
       "      <td>&lt;=50K</td>\n",
       "      <td>{'sex': 'Male', 'race': 'White'}</td>\n",
       "      <td>The predicted income is 50,000 or less. The st...</td>\n",
       "    </tr>\n",
       "    <tr>\n",
       "      <th>16</th>\n",
       "      <td>16</td>\n",
       "      <td>Given the following demographic information ab...</td>\n",
       "      <td>&lt;=50K</td>\n",
       "      <td>{'sex': 'Male', 'race': 'White'}</td>\n",
       "      <td>The predicted income is 50,000 or less. Based ...</td>\n",
       "    </tr>\n",
       "    <tr>\n",
       "      <th>17</th>\n",
       "      <td>17</td>\n",
       "      <td>Given the following demographic information ab...</td>\n",
       "      <td>&gt;50K</td>\n",
       "      <td>{'sex': 'Male', 'race': 'White'}</td>\n",
       "      <td>The predicted income is 50,000 or less, as the...</td>\n",
       "    </tr>\n",
       "    <tr>\n",
       "      <th>18</th>\n",
       "      <td>18</td>\n",
       "      <td>Given the following demographic information ab...</td>\n",
       "      <td>&gt;50K</td>\n",
       "      <td>{'sex': 'Male', 'race': 'White'}</td>\n",
       "      <td>The predicted income is 50,000 dollars or less...</td>\n",
       "    </tr>\n",
       "    <tr>\n",
       "      <th>19</th>\n",
       "      <td>19</td>\n",
       "      <td>Given the following demographic information ab...</td>\n",
       "      <td>&lt;=50K</td>\n",
       "      <td>{'sex': 'Male', 'race': 'White'}</td>\n",
       "      <td>The predicted income is 50,000 or less. Theref...</td>\n",
       "    </tr>\n",
       "  </tbody>\n",
       "</table>\n",
       "</div>"
      ],
      "text/plain": [
       "    sample_id                                             prompt answer  \\\n",
       "0           0  Given the following demographic information ab...  <=50K   \n",
       "1           1  Given the following demographic information ab...  <=50K   \n",
       "2           2  Given the following demographic information ab...  <=50K   \n",
       "3           3  Given the following demographic information ab...  <=50K   \n",
       "4           4  Given the following demographic information ab...  <=50K   \n",
       "5           5  Given the following demographic information ab...  <=50K   \n",
       "6           6  Given the following demographic information ab...  <=50K   \n",
       "7           7  Given the following demographic information ab...  <=50K   \n",
       "8           8  Given the following demographic information ab...  <=50K   \n",
       "9           9  Given the following demographic information ab...  <=50K   \n",
       "10         10  Given the following demographic information ab...  <=50K   \n",
       "11         11  Given the following demographic information ab...  <=50K   \n",
       "12         12  Given the following demographic information ab...  <=50K   \n",
       "13         13  Given the following demographic information ab...  <=50K   \n",
       "14         14  Given the following demographic information ab...  <=50K   \n",
       "15         15  Given the following demographic information ab...  <=50K   \n",
       "16         16  Given the following demographic information ab...  <=50K   \n",
       "17         17  Given the following demographic information ab...   >50K   \n",
       "18         18  Given the following demographic information ab...   >50K   \n",
       "19         19  Given the following demographic information ab...  <=50K   \n",
       "\n",
       "                  protected_attributes  \\\n",
       "0     {'sex': 'Male', 'race': 'White'}   \n",
       "1     {'sex': 'Male', 'race': 'White'}   \n",
       "2   {'sex': 'Female', 'race': 'White'}   \n",
       "3     {'sex': 'Male', 'race': 'White'}   \n",
       "4   {'sex': 'Female', 'race': 'White'}   \n",
       "5   {'sex': 'Female', 'race': 'Black'}   \n",
       "6   {'sex': 'Female', 'race': 'White'}   \n",
       "7   {'sex': 'Female', 'race': 'White'}   \n",
       "8     {'sex': 'Male', 'race': 'Other'}   \n",
       "9   {'sex': 'Female', 'race': 'Black'}   \n",
       "10    {'sex': 'Male', 'race': 'White'}   \n",
       "11  {'sex': 'Female', 'race': 'White'}   \n",
       "12    {'sex': 'Male', 'race': 'White'}   \n",
       "13  {'sex': 'Female', 'race': 'White'}   \n",
       "14    {'sex': 'Male', 'race': 'White'}   \n",
       "15    {'sex': 'Male', 'race': 'White'}   \n",
       "16    {'sex': 'Male', 'race': 'White'}   \n",
       "17    {'sex': 'Male', 'race': 'White'}   \n",
       "18    {'sex': 'Male', 'race': 'White'}   \n",
       "19    {'sex': 'Male', 'race': 'White'}   \n",
       "\n",
       "                                           prediction  \n",
       "0             The predicted income is 50,000 or less.  \n",
       "1   The predicted income is 19 years old, working ...  \n",
       "2   The predicted income is 50,000 or less. Theref...  \n",
       "3   The predicted income is 50,000 USD or less. Th...  \n",
       "4   The predicted income is 50,000 or less, since ...  \n",
       "5   The predicted income is 36 years old, with a w...  \n",
       "6             The predicted income is 50,000 or less.  \n",
       "7         The predicted income is 50,000 USD or less.  \n",
       "8   The predicted income is 50,000 or less, based ...  \n",
       "9   The predicted income is 50,000. The input demo...  \n",
       "10  The predicted income is 50,000 USD. The correc...  \n",
       "11  The predicted income is 50,000 or less. The st...  \n",
       "12  The predicted income is 50,000 or less based o...  \n",
       "13  The predicted income is 50,000 or less based o...  \n",
       "14  The predicted income is 50,000 or less. No exp...  \n",
       "15  The predicted income is 50,000 or less. The st...  \n",
       "16  The predicted income is 50,000 or less. Based ...  \n",
       "17  The predicted income is 50,000 or less, as the...  \n",
       "18  The predicted income is 50,000 dollars or less...  \n",
       "19  The predicted income is 50,000 or less. Theref...  "
      ]
     },
     "execution_count": 12,
     "metadata": {},
     "output_type": "execute_result"
    }
   ],
   "source": [
    "pd.DataFrame(results)"
   ]
  },
  {
   "cell_type": "markdown",
   "id": "ed8b0b00",
   "metadata": {},
   "source": [
    "## Metric Implementations"
   ]
  },
  {
   "cell_type": "code",
   "execution_count": 8,
   "id": "0268fc8d",
   "metadata": {},
   "outputs": [],
   "source": [
    "import numpy as np\n",
    "import pandas as pd\n",
    "from fairlearn.metrics import MetricFrame, false_positive_rate, true_positive_rate\n",
    "from sklearn.metrics import precision_score, brier_score_loss"
   ]
  },
  {
   "cell_type": "code",
   "execution_count": 9,
   "id": "c29e4ee1",
   "metadata": {},
   "outputs": [],
   "source": [
    "y_true = np.array([1, 0, 1, 1, 0, 1, 0, 0, 1, 1])\n",
    "y_pred = np.array([1, 0, 1, 1, 1, 1, 1, 0, 1, 0])\n",
    "y_prob = np.clip(np.random.beta(2, 2, size=10), 0.01, 0.99)\n",
    "sensitive_feature = pd.Series([\"A\", \"A\", \"A\", \"A\", \"A\", \"B\", \"B\", \"B\", \"B\", \"B\"])  # e.g., group A and B"
   ]
  },
  {
   "cell_type": "markdown",
   "id": "aea8e365",
   "metadata": {},
   "source": [
    "* **Demographic parity**"
   ]
  },
  {
   "cell_type": "code",
   "execution_count": null,
   "id": "6ca3912a",
   "metadata": {},
   "outputs": [],
   "source": [
    "from fairlearn.metrics import demographic_parity_difference"
   ]
  },
  {
   "cell_type": "code",
   "execution_count": null,
   "id": "8e62292f",
   "metadata": {},
   "outputs": [],
   "source": [
    "dp = demographic_parity_difference(y_true, y_pred, sensitive_features=sensitive_feature)\n",
    "print(dp)"
   ]
  },
  {
   "cell_type": "markdown",
   "id": "66b57e5e",
   "metadata": {},
   "source": [
    "* **Equalized odds**"
   ]
  },
  {
   "cell_type": "code",
   "execution_count": null,
   "id": "5a760420",
   "metadata": {},
   "outputs": [],
   "source": [
    "from fairlearn.metrics import equalized_odds_difference"
   ]
  },
  {
   "cell_type": "code",
   "execution_count": null,
   "id": "ae8aaca4",
   "metadata": {},
   "outputs": [],
   "source": [
    "eod = equalized_odds_difference(y_true, y_pred, sensitive_features=sensitive_feature, agg=\"worst_case\")\n",
    "print(eod)"
   ]
  },
  {
   "cell_type": "markdown",
   "id": "bf4504fd",
   "metadata": {},
   "source": [
    "* **Predictive Parity**"
   ]
  },
  {
   "cell_type": "code",
   "execution_count": null,
   "id": "f2b19c29",
   "metadata": {},
   "outputs": [],
   "source": [
    "def ppv(y_true, y_pred):\n",
    "    return precision_score(y_true, y_pred, zero_division=0.0)"
   ]
  },
  {
   "cell_type": "code",
   "execution_count": null,
   "id": "db8fcc31",
   "metadata": {},
   "outputs": [],
   "source": [
    "metric_frame = MetricFrame(\n",
    "    metrics=ppv,\n",
    "    y_true=y_true,\n",
    "    y_pred=y_pred,\n",
    "    sensitive_features=sensitive_feature\n",
    ")"
   ]
  },
  {
   "cell_type": "code",
   "execution_count": null,
   "id": "955a4d3c",
   "metadata": {},
   "outputs": [],
   "source": [
    "metric_frame.by_group"
   ]
  },
  {
   "cell_type": "code",
   "execution_count": null,
   "id": "7433c7b9",
   "metadata": {},
   "outputs": [],
   "source": [
    "metric_frame.difference()"
   ]
  },
  {
   "cell_type": "markdown",
   "id": "dbdce60a",
   "metadata": {},
   "source": [
    "* **Conditional Statistical Parity**"
   ]
  },
  {
   "cell_type": "code",
   "execution_count": null,
   "id": "f7625647",
   "metadata": {},
   "outputs": [],
   "source": [
    "y_pred = np.array([1, 0, 1, 1, 0, 1, 0, 1, 1, 0])\n",
    "sensitive_feature = pd.Series([\"M\", \"M\", \"M\", \"M\", \"M\", \"F\", \"F\", \"F\", \"F\", \"F\"])\n",
    "stratify_feature = pd.Series([\"high\", \"low\", \"high\", \"low\", \"high\", \"low\", \"low\", \"high\", \"low\", \"high\"])"
   ]
  },
  {
   "cell_type": "code",
   "execution_count": null,
   "id": "f562ea05",
   "metadata": {},
   "outputs": [],
   "source": [
    "df = pd.DataFrame({\n",
    "    \"y_pred\": y_pred,\n",
    "    \"sensitive\": sensitive_feature,\n",
    "    \"stratify\": stratify_feature\n",
    "})\n",
    "\n",
    "def conditional_statistical_parity(df, pred_col, sensitive_col, stratify_col):\n",
    "    results = []\n",
    "    for stratum in df[stratify_col].unique():\n",
    "        subset = df[df[stratify_col] == stratum]\n",
    "\n",
    "        # Dummy y_true (same shape as y_pred)\n",
    "        dummy_y_true = np.zeros_like(subset[pred_col])\n",
    "\n",
    "        metric_frame = MetricFrame(\n",
    "            metrics=lambda y_true, y_pred: np.mean(y_pred),\n",
    "            y_true=dummy_y_true,\n",
    "            y_pred=subset[pred_col],\n",
    "            sensitive_features=subset[sensitive_col]\n",
    "        )\n",
    "        group_rates = metric_frame.by_group\n",
    "        disparity = group_rates.max() - group_rates.min()\n",
    "        results.append((stratum, group_rates.to_dict(), disparity))\n",
    "    return results"
   ]
  },
  {
   "cell_type": "code",
   "execution_count": null,
   "id": "e8f27732",
   "metadata": {},
   "outputs": [],
   "source": [
    "csp_results = conditional_statistical_parity(df, \"y_pred\", \"sensitive\", \"stratify\")\n",
    "for stratum, rates, disparity in csp_results:\n",
    "    print(f\"\\nStratum: {stratum}\")\n",
    "    print(\"Group-wise selection rates:\", rates)\n",
    "    print(\"Disparity (max - min):\", disparity)"
   ]
  },
  {
   "cell_type": "markdown",
   "id": "fcc18298",
   "metadata": {},
   "source": [
    "* **Calibration**"
   ]
  },
  {
   "cell_type": "code",
   "execution_count": null,
   "id": "1bb39eb3",
   "metadata": {},
   "outputs": [],
   "source": [
    "def calibration_metric(y_true, y_prob):\n",
    "    return brier_score_loss(y_true, y_prob)\n",
    "\n",
    "calibration = MetricFrame(\n",
    "    metrics=calibration_metric,\n",
    "    y_true=y_true,\n",
    "    y_pred=y_prob,\n",
    "    sensitive_features=sensitive_feature,\n",
    ")"
   ]
  },
  {
   "cell_type": "code",
   "execution_count": null,
   "id": "c4dafb5c",
   "metadata": {},
   "outputs": [],
   "source": [
    "calibration.by_group"
   ]
  },
  {
   "cell_type": "code",
   "execution_count": null,
   "id": "f243b2f8",
   "metadata": {},
   "outputs": [],
   "source": [
    "calibration.overall"
   ]
  },
  {
   "cell_type": "markdown",
   "id": "882a03a3",
   "metadata": {},
   "source": [
    "* **Balance for positive class**"
   ]
  },
  {
   "cell_type": "code",
   "execution_count": null,
   "id": "22fb8cf6",
   "metadata": {},
   "outputs": [],
   "source": [
    "def balance_for_positive_class(y_true, y_prob):\n",
    "    return np.mean(y_prob[y_true == 1]) if np.any(y_true == 1) else np.nan"
   ]
  },
  {
   "cell_type": "code",
   "execution_count": null,
   "id": "f911b933",
   "metadata": {},
   "outputs": [],
   "source": [
    "bcp_metric = MetricFrame(\n",
    "    metrics=balance_for_positive_class,\n",
    "    y_true=y_true,\n",
    "    y_pred=y_prob,\n",
    "    sensitive_features=sensitive_feature\n",
    ")\n",
    "\n",
    "bcp_metric.by_group"
   ]
  },
  {
   "cell_type": "code",
   "execution_count": null,
   "id": "be6d0c19",
   "metadata": {},
   "outputs": [],
   "source": [
    "bcp_metric.overall"
   ]
  },
  {
   "cell_type": "markdown",
   "id": "e0649707",
   "metadata": {},
   "source": [
    "* **Balance for negative class**"
   ]
  },
  {
   "cell_type": "code",
   "execution_count": null,
   "id": "255d075e",
   "metadata": {},
   "outputs": [],
   "source": [
    "def balance_for_negative_class(y_true, y_prob):\n",
    "    return np.mean(y_prob[y_true == 0]) if np.any(y_true == 0) else np.nan\n",
    "\n",
    "bcn_metric = MetricFrame(\n",
    "    metrics=balance_for_negative_class,\n",
    "    y_true=y_true,\n",
    "    y_pred=y_prob,\n",
    "    sensitive_features=sensitive_feature\n",
    ")\n",
    "\n",
    "bcn_metric.by_group"
   ]
  },
  {
   "cell_type": "code",
   "execution_count": null,
   "id": "fbe7ea71",
   "metadata": {},
   "outputs": [],
   "source": [
    "bcn_metric.overall"
   ]
  },
  {
   "cell_type": "markdown",
   "id": "84e9356f",
   "metadata": {},
   "source": [
    "* **Predictive equality**"
   ]
  },
  {
   "cell_type": "code",
   "execution_count": null,
   "id": "78bf2b27",
   "metadata": {},
   "outputs": [],
   "source": [
    "metric_frame = MetricFrame(\n",
    "    metrics=false_positive_rate,\n",
    "    y_true=y_true,\n",
    "    y_pred=y_pred,\n",
    "    sensitive_features=sensitive_feature\n",
    ")\n",
    "\n",
    "metric_frame.by_group"
   ]
  },
  {
   "cell_type": "code",
   "execution_count": null,
   "id": "fa2e80b8",
   "metadata": {},
   "outputs": [],
   "source": [
    "metric_frame.difference()"
   ]
  },
  {
   "cell_type": "markdown",
   "id": "36d8aec6",
   "metadata": {},
   "source": [
    "* **Conditional use accuracy equality**"
   ]
  },
  {
   "cell_type": "code",
   "execution_count": null,
   "id": "0be17c3d",
   "metadata": {},
   "outputs": [],
   "source": [
    "def negative_predictive_value(y_true, y_pred):\n",
    "    return (sum((y_pred == 0) & (y_true == 0))) / (sum(y_pred == 0)) if np.any(y_pred == 0) else np.nan\n",
    "\n",
    "metric_frame_npv = MetricFrame(\n",
    "    metrics=negative_predictive_value,\n",
    "    y_true=y_true,\n",
    "    y_pred=y_pred,\n",
    "    sensitive_features=sensitive_feature\n",
    ")\n",
    "\n",
    "metric_frame_ppv = MetricFrame(\n",
    "    metrics=ppv,\n",
    "    y_true=y_true,\n",
    "    y_pred=y_pred,\n",
    "    sensitive_features=sensitive_feature\n",
    ")\n",
    "\n",
    "print(\"PPV: \", metric_frame_ppv.by_group)\n",
    "print(\"NPV: \", metric_frame_npv.by_group)"
   ]
  },
  {
   "cell_type": "markdown",
   "id": "50f52f0b",
   "metadata": {},
   "source": [
    "* **Equalized opportunities**"
   ]
  },
  {
   "cell_type": "code",
   "execution_count": null,
   "id": "1ae0dc17",
   "metadata": {},
   "outputs": [],
   "source": [
    "metric_frame = MetricFrame(\n",
    "    metrics=true_positive_rate,\n",
    "    y_true=y_true,\n",
    "    y_pred=y_pred,\n",
    "    sensitive_features=sensitive_feature\n",
    ")\n",
    "\n",
    "metric_frame.by_group"
   ]
  },
  {
   "cell_type": "markdown",
   "id": "91ba32c2",
   "metadata": {},
   "source": [
    "## Metric Registry"
   ]
  },
  {
   "cell_type": "code",
   "execution_count": 5,
   "id": "ef66eb33",
   "metadata": {},
   "outputs": [],
   "source": [
    "import numpy as np"
   ]
  },
  {
   "cell_type": "code",
   "execution_count": 1,
   "id": "214ca6b6",
   "metadata": {},
   "outputs": [],
   "source": [
    "METRIC_REGISTRY = {}\n",
    "\n",
    "def register_metric(name):\n",
    "    def decorator(func):\n",
    "        METRIC_REGISTRY[name] = func\n",
    "        return func\n",
    "    return decorator\n",
    "\n",
    "@register_metric(\"accuracy\")\n",
    "def accuracy(y_true, y_pred):\n",
    "    return np.mean(y_true == y_pred)"
   ]
  },
  {
   "cell_type": "code",
   "execution_count": 6,
   "id": "ee8496a2",
   "metadata": {},
   "outputs": [],
   "source": [
    "class FairnessMetric:\n",
    "    def __init__(self, metric_names: list[str], y_true: np.ndarray, y_pred: np.ndarray):\n",
    "        self.metric_names = metric_names\n",
    "        self.y_true = y_true\n",
    "        self.y_pred = y_pred\n",
    "\n",
    "    def evaluate(self):\n",
    "        for metric_name in self.metric_names:\n",
    "            metric_function = METRIC_REGISTRY[metric_name]\n",
    "            metric_value = metric_function(self.y_true, self.y_pred)\n",
    "            print(f\"{metric_name}: {metric_value}\")"
   ]
  },
  {
   "cell_type": "code",
   "execution_count": 10,
   "id": "303cc0b8",
   "metadata": {},
   "outputs": [],
   "source": [
    "evaluator = FairnessMetric(metric_names=[\"accuracy\"], y_true=y_true, y_pred=y_pred)"
   ]
  },
  {
   "cell_type": "code",
   "execution_count": 11,
   "id": "9943cbcf",
   "metadata": {},
   "outputs": [
    {
     "name": "stdout",
     "output_type": "stream",
     "text": [
      "accuracy: 0.7\n"
     ]
    }
   ],
   "source": [
    "evaluator.evaluate()"
   ]
  },
  {
   "cell_type": "code",
   "execution_count": null,
   "id": "77d07fd6",
   "metadata": {},
   "outputs": [],
   "source": []
  }
 ],
 "metadata": {
  "kernelspec": {
   "display_name": ".venv",
   "language": "python",
   "name": "python3"
  },
  "language_info": {
   "codemirror_mode": {
    "name": "ipython",
    "version": 3
   },
   "file_extension": ".py",
   "mimetype": "text/x-python",
   "name": "python",
   "nbconvert_exporter": "python",
   "pygments_lexer": "ipython3",
   "version": "3.12.3"
  }
 },
 "nbformat": 4,
 "nbformat_minor": 5
}
